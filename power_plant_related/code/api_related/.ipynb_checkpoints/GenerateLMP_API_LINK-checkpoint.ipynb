{
 "cells": [
  {
   "cell_type": "code",
   "execution_count": 3,
   "id": "9596bef8",
   "metadata": {},
   "outputs": [],
   "source": [
    "import numpy as np\n",
    "import pandas as pd"
   ]
  },
  {
   "cell_type": "code",
   "execution_count": 8,
   "id": "323fa513",
   "metadata": {},
   "outputs": [],
   "source": [
    "template = 'http://oasis.caiso.com/oasisapi/SingleZip?resultformat=6&queryname=PRC_RTPD_LMP&version=3&startdatetime=20220901T07:00-0000&enddatetime=20220905T07:00-0000&market_run_id=RTPD&node={}' \n",
    "\n",
    "sd_nodes = pd.read_csv('../../data/Node_data/CAISO_SDGE_Node.csv')\n",
    "new_sd_nodes = sd_nodes.drop_duplicates(subset=['PNODE_ID'])\n",
    "\n",
    "pnodes_id = new_sd_nodes['PNODE_ID'].to_numpy()"
   ]
  },
  {
   "cell_type": "code",
   "execution_count": 9,
   "id": "33183e5d",
   "metadata": {},
   "outputs": [],
   "source": [
    "num_entries = pnodes_id.shape[0]\n",
    "download_links = np.zeros((2,num_entries),dtype=object)\n",
    "# print(new_sd_nodes)\n",
    "# print(pnodes_id)"
   ]
  },
  {
   "cell_type": "code",
   "execution_count": 10,
   "id": "9ed34c03",
   "metadata": {},
   "outputs": [],
   "source": [
    "for i in range(num_entries):\n",
    "    download_links[1][i] = template.format(pnodes_id[i])\n",
    "    download_links[0][i] = pnodes_id[i]"
   ]
  },
  {
   "cell_type": "code",
   "execution_count": 11,
   "id": "06c4db6e",
   "metadata": {},
   "outputs": [
    {
     "name": "stdout",
     "output_type": "stream",
     "text": [
      "            PNODE_ID                                               LINK\n",
      "0    SANYSDRO_6_N013  http://oasis.caiso.com/oasisapi/SingleZip?resu...\n",
      "1    SANYSDRO_6_N004  http://oasis.caiso.com/oasisapi/SingleZip?resu...\n",
      "2    SANYSDRO_6_N001  http://oasis.caiso.com/oasisapi/SingleZip?resu...\n",
      "3      CPBORDER_7_B1  http://oasis.caiso.com/oasisapi/SingleZip?resu...\n",
      "4      BORDER_6_N001  http://oasis.caiso.com/oasisapi/SingleZip?resu...\n",
      "..               ...                                                ...\n",
      "252  GLENCLIF_6_N001  http://oasis.caiso.com/oasisapi/SingleZip?resu...\n",
      "253  DESCANSO_6_N001  http://oasis.caiso.com/oasisapi/SingleZip?resu...\n",
      "254  SANTYSBL_6_N001  http://oasis.caiso.com/oasisapi/SingleZip?resu...\n",
      "255   WARNERS_6_N001  http://oasis.caiso.com/oasisapi/SingleZip?resu...\n",
      "256   BORREGO_6_N009  http://oasis.caiso.com/oasisapi/SingleZip?resu...\n",
      "\n",
      "[257 rows x 2 columns]\n",
      "                   AS_ID RES_TYPE           RES_ID                    BUS_ID  \\\n",
      "PNODE_ID                                                                       \n",
      "SANYSDRO_6_N013  AS_SP26      GEN    SYDRO_6_FCELL  22740_SANYSDRO_69.0_GUM1   \n",
      "SANYSDRO_6_N004  AS_SP15     LOAD     SYDRO_6_LD32  22740_SANYSDRO_69.0_LD32   \n",
      "SANYSDRO_6_N001  AS_SP26     LOAD     SYDRO_6_LD31  22740_SANYSDRO_69.0_LD31   \n",
      "CPBORDER_7_B1    AS_SP15      GEN  BORDER_6_UNITA1   22149_CPBORDER_13.8_GU1   \n",
      "BORDER_6_N001    AS_SP26     LOAD    BORDER_6_LD32   22076_BORDER _69.0_LD31   \n",
      "...                  ...      ...              ...                       ...   \n",
      "GLENCLIF_6_N001  AS_SP15     LOAD    GCLIFF_6_LD30   22324_GLENCLIF_69.0_LD1   \n",
      "DESCANSO_6_N001  AS_SP15     LOAD    DESCAN_6_LD30   22168_DESCANSO_69.0_LD1   \n",
      "SANTYSBL_6_N001  AS_SP15     LOAD    SNTABL_6_LD30   22736_SANTYSBL_69.0_LD1   \n",
      "WARNERS_6_N001   AS_SP26     LOAD     WRNERS_6_LD1   22884_WARNERS _69.0_LD1   \n",
      "BORREGO_6_N009   AS_SP26      GEN   BREGGO_6_SOLAR   22084_BORREGO _69.0_GU1   \n",
      "\n",
      "                 FNMVERSION        RELEASE_DATE  GROUP        Lat        Long  \\\n",
      "PNODE_ID                                                                        \n",
      "SANYSDRO_6_N013  22M7_DB114  2022-07-28 0:00:00   4836  32.545077 -117.069661   \n",
      "SANYSDRO_6_N004  22M7_DB114  2022-07-28 0:00:00   4838  32.562128 -117.026591   \n",
      "SANYSDRO_6_N001  22M7_DB114  2022-07-28 0:00:00   4837  32.562157 -117.026397   \n",
      "CPBORDER_7_B1    22M7_DB114  2022-07-28 0:00:00    371  32.566132 -116.944759   \n",
      "BORDER_6_N001    22M7_DB114  2022-07-28 0:00:00    369  32.566114 -116.944024   \n",
      "...                     ...                 ...    ...        ...         ...   \n",
      "GLENCLIF_6_N001  22M7_DB114  2022-07-28 0:00:00   1474  32.798371 -116.498270   \n",
      "DESCANSO_6_N001  22M7_DB114  2022-07-28 0:00:00    974  32.865264 -116.633692   \n",
      "SANTYSBL_6_N001  22M7_DB114  2022-07-28 0:00:00   4655  33.110721 -116.671113   \n",
      "WARNERS_6_N001   22M7_DB114  2022-07-28 0:00:00   5340  33.247363 -116.675766   \n",
      "BORREGO_6_N009   22M7_DB114  2022-07-28 0:00:00    397  33.291239 -116.353036   \n",
      "\n",
      "                Unnamed: 10                                               LINK  \n",
      "PNODE_ID                                                                        \n",
      "SANYSDRO_6_N013         NaN  http://oasis.caiso.com/oasisapi/SingleZip?resu...  \n",
      "SANYSDRO_6_N004         NaN  http://oasis.caiso.com/oasisapi/SingleZip?resu...  \n",
      "SANYSDRO_6_N001         NaN  http://oasis.caiso.com/oasisapi/SingleZip?resu...  \n",
      "CPBORDER_7_B1           NaN  http://oasis.caiso.com/oasisapi/SingleZip?resu...  \n",
      "BORDER_6_N001           NaN  http://oasis.caiso.com/oasisapi/SingleZip?resu...  \n",
      "...                     ...                                                ...  \n",
      "GLENCLIF_6_N001         NaN  http://oasis.caiso.com/oasisapi/SingleZip?resu...  \n",
      "DESCANSO_6_N001         NaN  http://oasis.caiso.com/oasisapi/SingleZip?resu...  \n",
      "SANTYSBL_6_N001         NaN  http://oasis.caiso.com/oasisapi/SingleZip?resu...  \n",
      "WARNERS_6_N001          NaN  http://oasis.caiso.com/oasisapi/SingleZip?resu...  \n",
      "BORREGO_6_N009          NaN  http://oasis.caiso.com/oasisapi/SingleZip?resu...  \n",
      "\n",
      "[257 rows x 11 columns]\n"
     ]
    }
   ],
   "source": [
    "pd2 = pd.DataFrame(download_links.T,columns=['PNODE_ID','LINK'])\n",
    "print(pd2)\n",
    "\n",
    "new_sd_nodes = new_sd_nodes.set_index('PNODE_ID').join(pd2.set_index('PNODE_ID'))\n",
    "print(new_sd_nodes)"
   ]
  },
  {
   "cell_type": "code",
   "execution_count": 12,
   "id": "c1d8a0b1",
   "metadata": {},
   "outputs": [],
   "source": [
    "new_sd_nodes.to_csv('./CAISE_SD_NODES_API_LINK_0901-0905.csv')"
   ]
  },
  {
   "cell_type": "code",
   "execution_count": null,
   "id": "2672ff3c",
   "metadata": {},
   "outputs": [],
   "source": []
  }
 ],
 "metadata": {
  "kernelspec": {
   "display_name": "Python 3 (ipykernel)",
   "language": "python",
   "name": "python3"
  },
  "language_info": {
   "codemirror_mode": {
    "name": "ipython",
    "version": 3
   },
   "file_extension": ".py",
   "mimetype": "text/x-python",
   "name": "python",
   "nbconvert_exporter": "python",
   "pygments_lexer": "ipython3",
   "version": "3.7.7"
  }
 },
 "nbformat": 4,
 "nbformat_minor": 5
}
