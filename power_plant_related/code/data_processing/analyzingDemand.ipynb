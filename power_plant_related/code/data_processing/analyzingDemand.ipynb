{
 "cells": [
  {
   "cell_type": "code",
   "execution_count": 98,
   "id": "2c450878",
   "metadata": {},
   "outputs": [],
   "source": [
    "import numpy as np\n",
    "import pandas as pd\n",
    "import matplotlib.pyplot as plt"
   ]
  },
  {
   "cell_type": "code",
   "execution_count": 99,
   "id": "5ffdcc58",
   "metadata": {},
   "outputs": [],
   "source": [
    "year = '2022'\n",
    "start_month = '09'\n",
    "end_month = '09'\n",
    "start_date = '01'\n",
    "end_date = '05'\n",
    "\n",
    "df1 = pd.read_csv('../.././data/Demand/CAISO-demand-20220901.csv')"
   ]
  },
  {
   "cell_type": "code",
   "execution_count": 100,
   "id": "a15a56a7",
   "metadata": {},
   "outputs": [
    {
     "data": {
      "text/plain": [
       "'09/01/2022'"
      ]
     },
     "execution_count": 100,
     "metadata": {},
     "output_type": "execute_result"
    }
   ],
   "source": [
    "df1.columns.to_numpy()[0][7:]"
   ]
  },
  {
   "cell_type": "code",
   "execution_count": 101,
   "id": "bfd94cda",
   "metadata": {},
   "outputs": [],
   "source": [
    "demand_trend = np.zeros(0)\n",
    "time_step = np.zeros(0)"
   ]
  },
  {
   "cell_type": "code",
   "execution_count": 110,
   "id": "a094e232",
   "metadata": {},
   "outputs": [
    {
     "name": "stdout",
     "output_type": "stream",
     "text": [
      "Concatinating 4/5\r"
     ]
    },
    {
     "data": {
      "text/html": [
       "<div>\n",
       "<style scoped>\n",
       "    .dataframe tbody tr th:only-of-type {\n",
       "        vertical-align: middle;\n",
       "    }\n",
       "\n",
       "    .dataframe tbody tr th {\n",
       "        vertical-align: top;\n",
       "    }\n",
       "\n",
       "    .dataframe thead th {\n",
       "        text-align: right;\n",
       "    }\n",
       "</style>\n",
       "<table border=\"1\" class=\"dataframe\">\n",
       "  <thead>\n",
       "    <tr style=\"text-align: right;\">\n",
       "      <th></th>\n",
       "      <th>0</th>\n",
       "    </tr>\n",
       "  </thead>\n",
       "  <tbody>\n",
       "    <tr>\n",
       "      <th>31343.0</th>\n",
       "      <td>2022-09-01 00:00:00</td>\n",
       "    </tr>\n",
       "    <tr>\n",
       "      <th>30930.0</th>\n",
       "      <td>2022-09-01 00:05:00</td>\n",
       "    </tr>\n",
       "    <tr>\n",
       "      <th>30930.0</th>\n",
       "      <td>2022-09-01 00:10:00</td>\n",
       "    </tr>\n",
       "    <tr>\n",
       "      <th>30930.0</th>\n",
       "      <td>2022-09-01 00:15:00</td>\n",
       "    </tr>\n",
       "    <tr>\n",
       "      <th>30464.0</th>\n",
       "      <td>2022-09-01 00:20:00</td>\n",
       "    </tr>\n",
       "    <tr>\n",
       "      <th>...</th>\n",
       "      <td>...</td>\n",
       "    </tr>\n",
       "    <tr>\n",
       "      <th>33196.0</th>\n",
       "      <td>2022-09-04 23:35:00</td>\n",
       "    </tr>\n",
       "    <tr>\n",
       "      <th>33196.0</th>\n",
       "      <td>2022-09-04 23:40:00</td>\n",
       "    </tr>\n",
       "    <tr>\n",
       "      <th>33196.0</th>\n",
       "      <td>2022-09-04 23:45:00</td>\n",
       "    </tr>\n",
       "    <tr>\n",
       "      <th>32594.0</th>\n",
       "      <td>2022-09-04 23:50:00</td>\n",
       "    </tr>\n",
       "    <tr>\n",
       "      <th>32594.0</th>\n",
       "      <td>2022-09-04 23:55:00</td>\n",
       "    </tr>\n",
       "  </tbody>\n",
       "</table>\n",
       "<p>2880 rows × 1 columns</p>\n",
       "</div>"
      ],
      "text/plain": [
       "                          0\n",
       "31343.0 2022-09-01 00:00:00\n",
       "30930.0 2022-09-01 00:05:00\n",
       "30930.0 2022-09-01 00:10:00\n",
       "30930.0 2022-09-01 00:15:00\n",
       "30464.0 2022-09-01 00:20:00\n",
       "...                     ...\n",
       "33196.0 2022-09-04 23:35:00\n",
       "33196.0 2022-09-04 23:40:00\n",
       "33196.0 2022-09-04 23:45:00\n",
       "32594.0 2022-09-04 23:50:00\n",
       "32594.0 2022-09-04 23:55:00\n",
       "\n",
       "[2880 rows x 1 columns]"
      ]
     },
     "execution_count": 110,
     "metadata": {},
     "output_type": "execute_result"
    }
   ],
   "source": [
    "import sys\n",
    "import time\n",
    "import datetime\n",
    "\n",
    "def restart_line():\n",
    "    sys.stdout.flush()\n",
    "    time.sleep(0.05)\n",
    "    sys.stdout.write('\\r')\n",
    "    sys.stdout.flush()\n",
    "    \n",
    "index = 0\n",
    "N = 5\n",
    "    \n",
    "import os\n",
    "for root, dirs, files in os.walk(r'/Users/kaiwencheng/Desktop/research/SRIP/carbon_related_data_analytics/power_plant_related/data/Demand'):\n",
    "    for filename in files:\n",
    "        if(filename[-4:]!='.csv'):\n",
    "            continue\n",
    "        \n",
    "        sys.stdout.write('Concatinating {}/{}'.format(index,N))\n",
    "        restart_line()\n",
    "\n",
    "        index += 1\n",
    "        time_step2 = pd.read_csv('../.././data/Demand/{}'.format(filename)).columns.to_numpy()[1:-1]\n",
    "        date = pd.read_csv('../.././data/Demand/{}'.format(filename)).columns.to_numpy()[0][7:]\n",
    "        \n",
    "        for i in range(time_step2.shape[0]):\n",
    "            time_step2[i] = pd.to_datetime(date+' '+time_step2[i])\n",
    "        \n",
    "        demand_trend2 = pd.read_csv('../.././data/Demand/{}'.format(filename)).iloc[1].to_numpy()[1:-1]\n",
    "        \n",
    "        demand_trend = np.concatenate((demand_trend, demand_trend2), axis=None)\n",
    "        time_step = np.concatenate((time_step, time_step2), axis=None)\n",
    "\n"
   ]
  },
  {
   "cell_type": "code",
   "execution_count": 113,
   "id": "a81bd5a8",
   "metadata": {},
   "outputs": [],
   "source": [
    "demand = pd.DataFrame({'time':time_step,'demand':demand_trend})"
   ]
  },
  {
   "cell_type": "code",
   "execution_count": 115,
   "id": "a0e92df0",
   "metadata": {},
   "outputs": [],
   "source": [
    "demand = demand.sort_values('time')"
   ]
  },
  {
   "cell_type": "code",
   "execution_count": 116,
   "id": "5da690d5",
   "metadata": {},
   "outputs": [
    {
     "data": {
      "text/plain": [
       "Timestamp('2022-09-01 00:00:00')"
      ]
     },
     "execution_count": 116,
     "metadata": {},
     "output_type": "execute_result"
    }
   ],
   "source": [
    "time_step[0]"
   ]
  },
  {
   "cell_type": "code",
   "execution_count": 118,
   "id": "f17a3451",
   "metadata": {},
   "outputs": [
    {
     "data": {
      "text/plain": [
       "<AxesSubplot:xlabel='time'>"
      ]
     },
     "execution_count": 118,
     "metadata": {},
     "output_type": "execute_result"
    },
    {
     "data": {
      "image/png": "[encoded data removed]",
      "text/plain": [
       "<Figure size 432x288 with 1 Axes>"
      ]
     },
     "metadata": {
      "needs_background": "light"
     },
     "output_type": "display_data"
    }
   ],
   "source": [
    "demand.plot(x=\"time\", y=[\"demand\"])"
   ]
  },
  {
   "cell_type": "code",
   "execution_count": null,
   "id": "4719828d",
   "metadata": {},
   "outputs": [],
   "source": []
  },
  {
   "cell_type": "code",
   "execution_count": null,
   "id": "2220119b",
   "metadata": {},
   "outputs": [],
   "source": []
  }
 ],
 "metadata": {
  "kernelspec": {
   "display_name": "Python 3 (ipykernel)",
   "language": "python",
   "name": "python3"
  },
  "language_info": {
   "codemirror_mode": {
    "name": "ipython",
    "version": 3
   },
   "file_extension": ".py",
   "mimetype": "text/x-python",
   "name": "python",
   "nbconvert_exporter": "python",
   "pygments_lexer": "ipython3",
   "version": "3.7.7"
  }
 },
 "nbformat": 4,
 "nbformat_minor": 5
}
