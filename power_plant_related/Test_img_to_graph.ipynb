{
 "cells": [
  {
   "cell_type": "code",
   "execution_count": 1,
   "id": "aac9e08f",
   "metadata": {},
   "outputs": [],
   "source": [
    "import numpy as np\n",
    "from sklearn.feature_extraction import image\n",
    "import cv2\n",
    "import seaborn as sns\n",
    "\n",
    "img = cv2.imread('./SDGE_NODE_IMG.png')"
   ]
  },
  {
   "cell_type": "code",
   "execution_count": 2,
   "id": "289d0cf7",
   "metadata": {},
   "outputs": [],
   "source": [
    "grayImage = cv2.cvtColor(img, cv2.COLOR_BGR2GRAY)\n",
    "(thresh, blackAndWhiteImage) = cv2.threshold(grayImage, 200, 255, cv2.THRESH_BINARY)\n",
    "cv2.imshow('Black white image', blackAndWhiteImage)\n",
    "cv2.waitKey(0)\n",
    "cv2.destroyAllWindows()"
   ]
  },
  {
   "cell_type": "code",
   "execution_count": 3,
   "id": "c7fb812e",
   "metadata": {},
   "outputs": [],
   "source": [
    "graph = image.img_to_graph(blackAndWhiteImage)\n",
    "graph_array = graph.toarray()"
   ]
  },
  {
   "cell_type": "code",
   "execution_count": 4,
   "id": "141ab600",
   "metadata": {},
   "outputs": [
    {
     "data": {
      "text/plain": [
       "array([[255,   0,   0, ...,   0,   0,   0],\n",
       "       [  0, 255,   0, ...,   0,   0,   0],\n",
       "       [  0,   0, 255, ...,   0,   0,   0],\n",
       "       ...,\n",
       "       [  0,   0,   0, ..., 255,   0,   0],\n",
       "       [  0,   0,   0, ...,   0, 255,   0],\n",
       "       [  0,   0,   0, ...,   0,   0, 255]], dtype=uint8)"
      ]
     },
     "execution_count": 4,
     "metadata": {},
     "output_type": "execute_result"
    }
   ],
   "source": [
    "graph_array"
   ]
  },
  {
   "cell_type": "code",
   "execution_count": null,
   "id": "e401f970",
   "metadata": {},
   "outputs": [],
   "source": [
    "sns.heatmap(graph_array, square=True)"
   ]
  },
  {
   "cell_type": "code",
   "execution_count": null,
   "id": "efa729d4",
   "metadata": {},
   "outputs": [],
   "source": []
  }
 ],
 "metadata": {
  "kernelspec": {
   "display_name": "Python 3 (ipykernel)",
   "language": "python",
   "name": "python3"
  },
  "language_info": {
   "codemirror_mode": {
    "name": "ipython",
    "version": 3
   },
   "file_extension": ".py",
   "mimetype": "text/x-python",
   "name": "python",
   "nbconvert_exporter": "python",
   "pygments_lexer": "ipython3",
   "version": "3.7.7"
  }
 },
 "nbformat": 4,
 "nbformat_minor": 5
}
